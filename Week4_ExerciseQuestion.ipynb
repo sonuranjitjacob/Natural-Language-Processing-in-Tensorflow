{
  "nbformat": 4,
  "nbformat_minor": 0,
  "metadata": {
    "colab": {
      "name": "NLP-Week4-Exercise-Shakespeare-Question.ipynb",
      "provenance": []
    },
    "kernelspec": {
      "name": "python3",
      "display_name": "Python 3"
    },
    "accelerator": "GPU"
  },
  "cells": [
    {
      "cell_type": "code",
      "metadata": {
        "id": "BOwsuGQQY9OL",
        "colab_type": "code",
        "colab": {}
      },
      "source": [
        "import tensorflow as tf\n",
        "from tensorflow.keras.preprocessing.sequence import pad_sequences\n",
        "from tensorflow.keras.layers import Embedding, LSTM, Dense, Dropout, Bidirectional\n",
        "from tensorflow.keras.preprocessing.text import Tokenizer\n",
        "from tensorflow.keras.models import Sequential\n",
        "from tensorflow.keras.optimizers import Adam\n",
        "### YOUR CODE HERE\n",
        "# Figure out how to import regularizers\n",
        "from tensorflow.keras import regularizers\n",
        "###\n",
        "import tensorflow.keras.utils as ku \n",
        "import numpy as np "
      ],
      "execution_count": 0,
      "outputs": []
    },
    {
      "cell_type": "code",
      "metadata": {
        "colab_type": "code",
        "id": "PRnDnCW-Z7qv",
        "colab": {
          "base_uri": "https://localhost:8080/",
          "height": 202
        },
        "outputId": "81490e47-5658-4c38-a2f5-d90a19fbbec3"
      },
      "source": [
        "tokenizer = Tokenizer()\n",
        "!wget --no-check-certificate \\\n",
        "    https://storage.googleapis.com/laurencemoroney-blog.appspot.com/sonnets.txt \\\n",
        "    -O /tmp/sonnets.txt\n",
        "data = open('/tmp/sonnets.txt').read()\n",
        "\n",
        "corpus = data.lower().split(\"\\n\")\n",
        "\n",
        "\n",
        "tokenizer.fit_on_texts(corpus)\n",
        "total_words = len(tokenizer.word_index) + 1\n",
        "\n",
        "# create input sequences using list of tokens\n",
        "input_sequences = []\n",
        "for line in corpus:\n",
        "\ttoken_list = tokenizer.texts_to_sequences([line])[0]\n",
        "\tfor i in range(1, len(token_list)):\n",
        "\t\tn_gram_sequence = token_list[:i+1]\n",
        "\t\tinput_sequences.append(n_gram_sequence)\n",
        "\n",
        "\n",
        "# pad sequences \n",
        "max_sequence_len = max([len(x) for x in input_sequences])\n",
        "input_sequences = np.array(pad_sequences(input_sequences, maxlen=max_sequence_len, padding='pre'))\n",
        "\n",
        "# create predictors and label\n",
        "predictors, label = input_sequences[:,:-1],input_sequences[:,-1]\n",
        "\n",
        "label = ku.to_categorical(label, num_classes=total_words)"
      ],
      "execution_count": 12,
      "outputs": [
        {
          "output_type": "stream",
          "text": [
            "--2020-03-09 05:38:05--  https://storage.googleapis.com/laurencemoroney-blog.appspot.com/sonnets.txt\n",
            "Resolving storage.googleapis.com (storage.googleapis.com)... 172.217.11.80, 2607:f8b0:4007:803::2010\n",
            "Connecting to storage.googleapis.com (storage.googleapis.com)|172.217.11.80|:443... connected.\n",
            "HTTP request sent, awaiting response... 200 OK\n",
            "Length: 93578 (91K) [text/plain]\n",
            "Saving to: ‘/tmp/sonnets.txt’\n",
            "\n",
            "\r/tmp/sonnets.txt      0%[                    ]       0  --.-KB/s               \r/tmp/sonnets.txt    100%[===================>]  91.38K  --.-KB/s    in 0.001s  \n",
            "\n",
            "2020-03-09 05:38:05 (117 MB/s) - ‘/tmp/sonnets.txt’ saved [93578/93578]\n",
            "\n"
          ],
          "name": "stdout"
        }
      ]
    },
    {
      "cell_type": "code",
      "metadata": {
        "id": "w9vH8Y59ajYL",
        "colab_type": "code",
        "colab": {
          "base_uri": "https://localhost:8080/",
          "height": 370
        },
        "outputId": "bb3b9350-dfc3-44e7-9ff8-072309dda7f6"
      },
      "source": [
        "DESIRED_ACCURACY = 0.75\n",
        "class myCallback(tf.keras.callbacks.Callback):\n",
        "  def on_epoch_end(self, epoch, logs={}):\n",
        "    if(logs.get('acc') > DESIRED_ACCURACY):\n",
        "      print(\"\\nReached 75% accuracy so cancelling training!\")\n",
        "      self.model.stop_training = True\n",
        "\n",
        "callbacks = myCallback()\n",
        "\n",
        "\n",
        "model = Sequential()\n",
        "model.add(Embedding(total_words, 100, input_length=max_sequence_len - 1))\n",
        "model.add(Bidirectional(LSTM(150, return_sequences = True)))\n",
        "model.add(Dropout(0.2))\n",
        "model.add(LSTM(100))\n",
        "model.add(Dense(total_words/2, activation='relu', kernel_regularizer=regularizers.l2(0.01)))\n",
        "model.add(Dense(total_words, activation='softmax'))\n",
        "# Pick an optimizer\n",
        "model.compile(loss='categorical_crossentropy', optimizer='adam', metrics=['accuracy'])\n",
        "print(model.summary())\n",
        "\n"
      ],
      "execution_count": 21,
      "outputs": [
        {
          "output_type": "stream",
          "text": [
            "Model: \"sequential_3\"\n",
            "_________________________________________________________________\n",
            "Layer (type)                 Output Shape              Param #   \n",
            "=================================================================\n",
            "embedding_3 (Embedding)      (None, 10, 100)           321100    \n",
            "_________________________________________________________________\n",
            "bidirectional_3 (Bidirection (None, 10, 300)           301200    \n",
            "_________________________________________________________________\n",
            "dropout_3 (Dropout)          (None, 10, 300)           0         \n",
            "_________________________________________________________________\n",
            "lstm_7 (LSTM)                (None, 100)               160400    \n",
            "_________________________________________________________________\n",
            "dense_4 (Dense)              (None, 1605)              162105    \n",
            "_________________________________________________________________\n",
            "dense_5 (Dense)              (None, 3211)              5156866   \n",
            "=================================================================\n",
            "Total params: 6,101,671\n",
            "Trainable params: 6,101,671\n",
            "Non-trainable params: 0\n",
            "_________________________________________________________________\n",
            "None\n"
          ],
          "name": "stdout"
        }
      ]
    },
    {
      "cell_type": "code",
      "metadata": {
        "id": "AIg2f1HBxqof",
        "colab_type": "code",
        "colab": {
          "base_uri": "https://localhost:8080/",
          "height": 1000
        },
        "outputId": "ca5cb39e-af4b-4131-9048-f593ee39e26b"
      },
      "source": [
        " history = model.fit(predictors, label, epochs=100, verbose=1, callbacks = [callbacks])"
      ],
      "execution_count": 22,
      "outputs": [
        {
          "output_type": "stream",
          "text": [
            "Train on 15462 samples\n",
            "Epoch 1/100\n",
            "15462/15462 [==============================] - 24s 2ms/sample - loss: 6.9137 - acc: 0.0241\n",
            "Epoch 2/100\n",
            "15462/15462 [==============================] - 23s 1ms/sample - loss: 6.4823 - acc: 0.0264\n",
            "Epoch 3/100\n",
            "15462/15462 [==============================] - 23s 1ms/sample - loss: 6.3394 - acc: 0.0310\n",
            "Epoch 4/100\n",
            "15462/15462 [==============================] - 22s 1ms/sample - loss: 6.2317 - acc: 0.0323\n",
            "Epoch 5/100\n",
            "15462/15462 [==============================] - 22s 1ms/sample - loss: 6.1371 - acc: 0.0367\n",
            "Epoch 6/100\n",
            "15462/15462 [==============================] - 22s 1ms/sample - loss: 6.0418 - acc: 0.0385\n",
            "Epoch 7/100\n",
            "15462/15462 [==============================] - 23s 1ms/sample - loss: 5.9578 - acc: 0.0420\n",
            "Epoch 8/100\n",
            "15462/15462 [==============================] - 23s 1ms/sample - loss: 5.8701 - acc: 0.0449\n",
            "Epoch 9/100\n",
            "15462/15462 [==============================] - 23s 2ms/sample - loss: 5.7867 - acc: 0.0528\n",
            "Epoch 10/100\n",
            "15462/15462 [==============================] - 23s 1ms/sample - loss: 5.7018 - acc: 0.0559\n",
            "Epoch 11/100\n",
            "15462/15462 [==============================] - 22s 1ms/sample - loss: 5.6171 - acc: 0.0618\n",
            "Epoch 12/100\n",
            "15462/15462 [==============================] - 22s 1ms/sample - loss: 5.5259 - acc: 0.0651\n",
            "Epoch 13/100\n",
            "15462/15462 [==============================] - 22s 1ms/sample - loss: 5.4346 - acc: 0.0748\n",
            "Epoch 14/100\n",
            "15462/15462 [==============================] - 22s 1ms/sample - loss: 5.3416 - acc: 0.0792\n",
            "Epoch 15/100\n",
            "15462/15462 [==============================] - 22s 1ms/sample - loss: 5.2422 - acc: 0.0892\n",
            "Epoch 16/100\n",
            "15462/15462 [==============================] - 22s 1ms/sample - loss: 5.1553 - acc: 0.0920\n",
            "Epoch 17/100\n",
            "15462/15462 [==============================] - 22s 1ms/sample - loss: 5.0631 - acc: 0.1008\n",
            "Epoch 18/100\n",
            "15462/15462 [==============================] - 22s 1ms/sample - loss: 4.9695 - acc: 0.1097\n",
            "Epoch 19/100\n",
            "15462/15462 [==============================] - 23s 2ms/sample - loss: 4.8828 - acc: 0.1147\n",
            "Epoch 20/100\n",
            "15462/15462 [==============================] - 23s 1ms/sample - loss: 4.7932 - acc: 0.1225\n",
            "Epoch 21/100\n",
            "15462/15462 [==============================] - 22s 1ms/sample - loss: 4.7084 - acc: 0.1345\n",
            "Epoch 22/100\n",
            "15462/15462 [==============================] - 23s 1ms/sample - loss: 4.6215 - acc: 0.1392\n",
            "Epoch 23/100\n",
            "15462/15462 [==============================] - 22s 1ms/sample - loss: 4.5356 - acc: 0.1490\n",
            "Epoch 24/100\n",
            "15462/15462 [==============================] - 23s 2ms/sample - loss: 4.4530 - acc: 0.1597\n",
            "Epoch 25/100\n",
            "15462/15462 [==============================] - 23s 1ms/sample - loss: 4.3643 - acc: 0.1674\n",
            "Epoch 26/100\n",
            "15462/15462 [==============================] - 23s 1ms/sample - loss: 4.2736 - acc: 0.1778\n",
            "Epoch 27/100\n",
            "15462/15462 [==============================] - 23s 1ms/sample - loss: 4.1890 - acc: 0.1868\n",
            "Epoch 28/100\n",
            "15462/15462 [==============================] - 22s 1ms/sample - loss: 4.1099 - acc: 0.1971\n",
            "Epoch 29/100\n",
            "15462/15462 [==============================] - 23s 1ms/sample - loss: 4.0226 - acc: 0.2084\n",
            "Epoch 30/100\n",
            "15462/15462 [==============================] - 23s 1ms/sample - loss: 3.9406 - acc: 0.2197\n",
            "Epoch 31/100\n",
            "15462/15462 [==============================] - 21s 1ms/sample - loss: 3.8489 - acc: 0.2330\n",
            "Epoch 32/100\n",
            "15462/15462 [==============================] - 21s 1ms/sample - loss: 3.7671 - acc: 0.2472\n",
            "Epoch 33/100\n",
            "15462/15462 [==============================] - 23s 1ms/sample - loss: 3.6913 - acc: 0.2554\n",
            "Epoch 34/100\n",
            "15462/15462 [==============================] - 23s 1ms/sample - loss: 3.6084 - acc: 0.2744\n",
            "Epoch 35/100\n",
            "15462/15462 [==============================] - 22s 1ms/sample - loss: 3.5213 - acc: 0.2887\n",
            "Epoch 36/100\n",
            "15462/15462 [==============================] - 21s 1ms/sample - loss: 3.4492 - acc: 0.3025\n",
            "Epoch 37/100\n",
            "15462/15462 [==============================] - 21s 1ms/sample - loss: 3.3692 - acc: 0.3152\n",
            "Epoch 38/100\n",
            "15462/15462 [==============================] - 22s 1ms/sample - loss: 3.2925 - acc: 0.3379\n",
            "Epoch 39/100\n",
            "15462/15462 [==============================] - 22s 1ms/sample - loss: 3.2253 - acc: 0.3498\n",
            "Epoch 40/100\n",
            "15462/15462 [==============================] - 22s 1ms/sample - loss: 3.1545 - acc: 0.3647\n",
            "Epoch 41/100\n",
            "15462/15462 [==============================] - 21s 1ms/sample - loss: 3.0791 - acc: 0.3840\n",
            "Epoch 42/100\n",
            "15462/15462 [==============================] - 22s 1ms/sample - loss: 3.0241 - acc: 0.3933\n",
            "Epoch 43/100\n",
            "15462/15462 [==============================] - 22s 1ms/sample - loss: 2.9564 - acc: 0.4101\n",
            "Epoch 44/100\n",
            "15462/15462 [==============================] - 23s 1ms/sample - loss: 2.8849 - acc: 0.4284\n",
            "Epoch 45/100\n",
            "15462/15462 [==============================] - 21s 1ms/sample - loss: 2.8450 - acc: 0.4350\n",
            "Epoch 46/100\n",
            "15462/15462 [==============================] - 22s 1ms/sample - loss: 2.7809 - acc: 0.4507\n",
            "Epoch 47/100\n",
            "15462/15462 [==============================] - 22s 1ms/sample - loss: 2.7203 - acc: 0.4600\n",
            "Epoch 48/100\n",
            "15462/15462 [==============================] - 22s 1ms/sample - loss: 2.6734 - acc: 0.4726\n",
            "Epoch 49/100\n",
            "15462/15462 [==============================] - 23s 1ms/sample - loss: 2.6161 - acc: 0.4869\n",
            "Epoch 50/100\n",
            "15462/15462 [==============================] - 22s 1ms/sample - loss: 2.5666 - acc: 0.5024\n",
            "Epoch 51/100\n",
            "15462/15462 [==============================] - 22s 1ms/sample - loss: 2.5147 - acc: 0.5168\n",
            "Epoch 52/100\n",
            "15462/15462 [==============================] - 23s 1ms/sample - loss: 2.4628 - acc: 0.5204\n",
            "Epoch 53/100\n",
            "15462/15462 [==============================] - 23s 1ms/sample - loss: 2.4098 - acc: 0.5409\n",
            "Epoch 54/100\n",
            "15462/15462 [==============================] - 22s 1ms/sample - loss: 2.3745 - acc: 0.5462\n",
            "Epoch 55/100\n",
            "15462/15462 [==============================] - 22s 1ms/sample - loss: 2.3483 - acc: 0.5492\n",
            "Epoch 56/100\n",
            "15462/15462 [==============================] - 23s 1ms/sample - loss: 2.2951 - acc: 0.5627\n",
            "Epoch 57/100\n",
            "15462/15462 [==============================] - 22s 1ms/sample - loss: 2.2696 - acc: 0.5676\n",
            "Epoch 58/100\n",
            "15462/15462 [==============================] - 23s 1ms/sample - loss: 2.2206 - acc: 0.5786\n",
            "Epoch 59/100\n",
            "15462/15462 [==============================] - 21s 1ms/sample - loss: 2.1761 - acc: 0.5927\n",
            "Epoch 60/100\n",
            "15462/15462 [==============================] - 22s 1ms/sample - loss: 2.1295 - acc: 0.6035\n",
            "Epoch 61/100\n",
            "15462/15462 [==============================] - 22s 1ms/sample - loss: 2.1013 - acc: 0.6044\n",
            "Epoch 62/100\n",
            "15462/15462 [==============================] - 22s 1ms/sample - loss: 2.0663 - acc: 0.6169\n",
            "Epoch 63/100\n",
            "15462/15462 [==============================] - 22s 1ms/sample - loss: 2.0313 - acc: 0.6207\n",
            "Epoch 64/100\n",
            "15462/15462 [==============================] - 22s 1ms/sample - loss: 1.9969 - acc: 0.6310\n",
            "Epoch 65/100\n",
            "15462/15462 [==============================] - 22s 1ms/sample - loss: 1.9589 - acc: 0.6372\n",
            "Epoch 66/100\n",
            "15462/15462 [==============================] - 23s 1ms/sample - loss: 1.9335 - acc: 0.6436\n",
            "Epoch 67/100\n",
            "15462/15462 [==============================] - 22s 1ms/sample - loss: 1.9084 - acc: 0.6522\n",
            "Epoch 68/100\n",
            "15462/15462 [==============================] - 22s 1ms/sample - loss: 1.8798 - acc: 0.6528\n",
            "Epoch 69/100\n",
            "15462/15462 [==============================] - 22s 1ms/sample - loss: 1.8484 - acc: 0.6647\n",
            "Epoch 70/100\n",
            "15462/15462 [==============================] - 21s 1ms/sample - loss: 1.8245 - acc: 0.6693\n",
            "Epoch 71/100\n",
            "15462/15462 [==============================] - 22s 1ms/sample - loss: 1.7880 - acc: 0.6779\n",
            "Epoch 72/100\n",
            "15462/15462 [==============================] - 22s 1ms/sample - loss: 1.7672 - acc: 0.6804\n",
            "Epoch 73/100\n",
            "15462/15462 [==============================] - 22s 1ms/sample - loss: 1.7245 - acc: 0.6903\n",
            "Epoch 74/100\n",
            "15462/15462 [==============================] - 22s 1ms/sample - loss: 1.7154 - acc: 0.6943\n",
            "Epoch 75/100\n",
            "15462/15462 [==============================] - 22s 1ms/sample - loss: 1.6901 - acc: 0.6975\n",
            "Epoch 76/100\n",
            "15462/15462 [==============================] - 22s 1ms/sample - loss: 1.6559 - acc: 0.7073\n",
            "Epoch 77/100\n",
            "15462/15462 [==============================] - 22s 1ms/sample - loss: 1.6437 - acc: 0.7086\n",
            "Epoch 78/100\n",
            "15462/15462 [==============================] - 21s 1ms/sample - loss: 1.6194 - acc: 0.7139\n",
            "Epoch 79/100\n",
            "15462/15462 [==============================] - 22s 1ms/sample - loss: 1.5833 - acc: 0.7214\n",
            "Epoch 80/100\n",
            "15462/15462 [==============================] - 22s 1ms/sample - loss: 1.5704 - acc: 0.7254\n",
            "Epoch 81/100\n",
            "15462/15462 [==============================] - 22s 1ms/sample - loss: 1.5508 - acc: 0.7296\n",
            "Epoch 82/100\n",
            "15462/15462 [==============================] - 22s 1ms/sample - loss: 1.5281 - acc: 0.7311\n",
            "Epoch 83/100\n",
            "15462/15462 [==============================] - 22s 1ms/sample - loss: 1.5362 - acc: 0.7260\n",
            "Epoch 84/100\n",
            "15462/15462 [==============================] - 22s 1ms/sample - loss: 1.5095 - acc: 0.7297\n",
            "Epoch 85/100\n",
            "15462/15462 [==============================] - 22s 1ms/sample - loss: 1.4864 - acc: 0.7377\n",
            "Epoch 86/100\n",
            "15462/15462 [==============================] - 22s 1ms/sample - loss: 1.4569 - acc: 0.7423\n",
            "Epoch 87/100\n",
            "15462/15462 [==============================] - 21s 1ms/sample - loss: 1.4434 - acc: 0.7443\n",
            "Epoch 88/100\n",
            "15462/15462 [==============================] - 22s 1ms/sample - loss: 1.4292 - acc: 0.7496\n",
            "Epoch 89/100\n",
            "15424/15462 [============================>.] - ETA: 0s - loss: 1.4063 - acc: 0.7544\n",
            "Reached 75% accuracy so cancelling training!\n",
            "15462/15462 [==============================] - 21s 1ms/sample - loss: 1.4065 - acc: 0.7540\n"
          ],
          "name": "stdout"
        }
      ]
    },
    {
      "cell_type": "code",
      "metadata": {
        "id": "1fXTEO3GJ282",
        "colab_type": "code",
        "colab": {
          "base_uri": "https://localhost:8080/",
          "height": 545
        },
        "outputId": "f4b9f703-92cb-45c6-ee49-e3899f0f1ce0"
      },
      "source": [
        "import matplotlib.pyplot as plt\n",
        "acc = history.history['acc']\n",
        "loss = history.history['loss']\n",
        "\n",
        "epochs = range(len(acc))\n",
        "\n",
        "plt.plot(epochs, acc, 'b', label='Training accuracy')\n",
        "plt.title('Training accuracy')\n",
        "\n",
        "plt.figure()\n",
        "\n",
        "plt.plot(epochs, loss, 'b', label='Training Loss')\n",
        "plt.title('Training loss')\n",
        "plt.legend()\n",
        "\n",
        "plt.show()"
      ],
      "execution_count": 23,
      "outputs": [
        {
          "output_type": "display_data",
          "data": {
            "image/png": "[encoded data removed]",
            "text/plain": [
              "<Figure size 432x288 with 1 Axes>"
            ]
          },
          "metadata": {
            "tags": []
          }
        },
        {
          "output_type": "display_data",
          "data": {
            "image/png": "[encoded data removed]",
            "text/plain": [
              "<Figure size 432x288 with 1 Axes>"
            ]
          },
          "metadata": {
            "tags": []
          }
        }
      ]
    },
    {
      "cell_type": "code",
      "metadata": {
        "id": "6Vc6PHgxa6Hm",
        "colab_type": "code",
        "colab": {
          "base_uri": "https://localhost:8080/",
          "height": 54
        },
        "outputId": "4abf2a11-faf3-4dc1-b3cb-35c1dd0e7d7f"
      },
      "source": [
        "seed_text = \"Help me Obi Wan Kenobi, you're my only hope\"\n",
        "next_words = 100\n",
        "  \n",
        "for _ in range(next_words):\n",
        "\ttoken_list = tokenizer.texts_to_sequences([seed_text])[0]\n",
        "\ttoken_list = pad_sequences([token_list], maxlen=max_sequence_len-1, padding='pre')\n",
        "\tpredicted = model.predict_classes(token_list, verbose=0)\n",
        "\toutput_word = \"\"\n",
        "\tfor word, index in tokenizer.word_index.items():\n",
        "\t\tif index == predicted:\n",
        "\t\t\toutput_word = word\n",
        "\t\t\tbreak\n",
        "\tseed_text += \" \" + output_word\n",
        "print(seed_text)"
      ],
      "execution_count": 24,
      "outputs": [
        {
          "output_type": "stream",
          "text": [
            "Help me Obi Wan Kenobi, you're my only hope of thine eyes brings forth thee still bright ill perjured ' o'er foes ride be bold some wretch be some wantonness care away be shown grow away to tell thee o'er care or touch'd esteem'd spent grow bright well kind dwell away bright taken ' bright be bright made when too about new pride light 'not you ' forth gone still thee doth not too dyed new new new right fall still still new reign pride lies go rolling hours so say that you eye doth view tell every wrong ' straight alone deem'd grow away with other date past\n"
          ],
          "name": "stdout"
        }
      ]
    }
  ]
}